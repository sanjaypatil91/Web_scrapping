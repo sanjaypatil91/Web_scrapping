{
  "nbformat": 4,
  "nbformat_minor": 0,
  "metadata": {
    "colab": {
      "provenance": []
    },
    "kernelspec": {
      "name": "python3",
      "display_name": "Python 3"
    },
    "language_info": {
      "name": "python"
    }
  },
  "cells": [
    {
      "cell_type": "markdown",
      "source": [
        "**1: Cross pattern**\n",
        "\n",
        "Write a program in python to print the following pattern for the given N number of rows.\n",
        "\n",
        "The cross pattern is a pattern with the shape of a cross sign (X).\n"
      ],
      "metadata": {
        "id": "PccT0DlPSvqx"
      }
    },
    {
      "cell_type": "code",
      "execution_count": null,
      "metadata": {
        "id": "a_bnhiLESZoI",
        "colab": {
          "base_uri": "https://localhost:8080/"
        },
        "outputId": "50fbd383-ef88-46ef-e89f-22402c44ee97"
      },
      "outputs": [
        {
          "output_type": "stream",
          "name": "stdout",
          "text": [
            "5\n",
            "*   *\n",
            " * * \n",
            "  *  \n",
            " * * \n",
            "*   *\n"
          ]
        }
      ],
      "source": [
        "def print_cross_pattern(size):\n",
        "    # Outer loop for rows\n",
        "    for i in range(size):\n",
        "        # Inner loop for columns\n",
        "        for j in range(size):\n",
        "            # Print '*' for main diagonal or secondary diagonal, else print space\n",
        "            if i == j or i + j == size - 1:\n",
        "                print('*', end='')\n",
        "            else:\n",
        "                print(' ', end='')\n",
        "        # Print new line after each row\n",
        "        print()\n",
        "\n",
        "# Prompt for user input for the size\n",
        "size = int(input())\n",
        "\n",
        "# Print the cross pattern\n",
        "print_cross_pattern(size)"
      ]
    },
    {
      "cell_type": "markdown",
      "source": [
        "**2: Left downward triangle binary pattern:**\n",
        "\n",
        "Write a program in python to print the following pattern for the given N number of rows.\n",
        "\n",
        "Example 1:\n",
        "Input:\n",
        "5\n",
        "\n",
        "Output:\n",
        "\n",
        "11111\n",
        "0000\n",
        "111\n",
        "00\n",
        "1"
      ],
      "metadata": {
        "id": "uXjq7RabTJr9"
      }
    },
    {
      "cell_type": "code",
      "source": [
        "def drawLeftDownwardTriangleBinaryPattern(n):\n",
        "    for i in range(n):\n",
        "        # Determine the binary number for the current row\n",
        "        binary_number = 1 if i % 2 == 0 else 0\n",
        "        # Print binary numbers in each row\n",
        "        for j in range(n - i):\n",
        "            print(binary_number, end='')\n",
        "        # Move to the next row\n",
        "        print()\n",
        "\n",
        "# Prompt for user input\n",
        "n = int(input())\n",
        "\n",
        "# Call the function to draw the left downward triangle binary pattern\n",
        "drawLeftDownwardTriangleBinaryPattern(n)"
      ],
      "metadata": {
        "colab": {
          "base_uri": "https://localhost:8080/"
        },
        "id": "Jd7k-XAtTNyn",
        "outputId": "a6a076a9-3a75-47fc-e372-2b800c393057"
      },
      "execution_count": null,
      "outputs": [
        {
          "output_type": "stream",
          "name": "stdout",
          "text": [
            "5\n",
            "11111\n",
            "0000\n",
            "111\n",
            "00\n",
            "1\n"
          ]
        }
      ]
    },
    {
      "cell_type": "code",
      "source": [
        "n=5\n",
        "for i in range(n):\n",
        "  for j in range(n - i - 1):\n",
        "    print(\" \", end=\"\")\n",
        "  for j in range(2 * i + 1):\n",
        "    #print(j)\n",
        "    if j == 2 * i: #or i == n - 1:\n",
        "      print(\"*\", end=\"\")\n",
        "    else:\n",
        "      print(\" \", end=\"\")\n",
        "  print()"
      ],
      "metadata": {
        "colab": {
          "base_uri": "https://localhost:8080/"
        },
        "id": "zrGUGJO2IqKi",
        "outputId": "07328532-3624-44d8-d3d7-6edc0d2315b1"
      },
      "execution_count": null,
      "outputs": [
        {
          "output_type": "stream",
          "name": "stdout",
          "text": [
            "    *\n",
            "     *\n",
            "      *\n",
            "       *\n",
            "        *\n"
          ]
        }
      ]
    },
    {
      "cell_type": "markdown",
      "source": [
        "**3: Arrow stars pattern:**\n",
        "\n",
        "Write a program in python to print the following pattern for the given N number of rows.\n",
        "\n",
        "The arrow stars pattern is a typical pattern of the shape of arrow and filled with stars.\n"
      ],
      "metadata": {
        "id": "P0svBNJWTTGG"
      }
    },
    {
      "cell_type": "code",
      "source": [
        "def drawArrowPattern(n):\n",
        "    # Calculate the number of rows in the upper and lower part of the arrow\n",
        "    n1 = (n + 1) // 2\n",
        "    n2 = n - n1\n",
        "\n",
        "    # Draw the upper part of the arrow\n",
        "    for i in range(1, n1 +1):\n",
        "        print(' ' *(i-1) + '* ' *i)\n",
        "\n",
        "# Draw the lower part of the arrow\n",
        "    for i in range(n2, 0, -1):\n",
        "        print(' ' *(i-1) + '* ' * i)\n",
        "\n",
        "# Prompt for user input\n",
        "n = int(input())\n",
        "\n",
        "# Call the function to draw the arrow pattern\n",
        "drawArrowPattern(n)\n"
      ],
      "metadata": {
        "colab": {
          "base_uri": "https://localhost:8080/"
        },
        "id": "ShDo06FzTQD_",
        "outputId": "cd161b64-f70e-4f8c-8bb1-8d95d14b1c09"
      },
      "execution_count": null,
      "outputs": [
        {
          "output_type": "stream",
          "name": "stdout",
          "text": [
            "5\n",
            "* \n",
            " * * \n",
            "  * * * \n",
            " * * \n",
            "* \n"
          ]
        }
      ]
    },
    {
      "cell_type": "markdown",
      "source": [
        "**4: Hourglass Star Pattern:**\n",
        "\n",
        "Write a program in python to print the following pattern for the given N number of rows."
      ],
      "metadata": {
        "id": "gqJx6zcoTZaH"
      }
    },
    {
      "cell_type": "code",
      "source": [
        "def drawHourglassPattern(n):\n",
        "    # Upper Half of Hourglass\n",
        "    for i in range(n):\n",
        "        # Print i spaces\n",
        "      print(' ' * i, end='')\n",
        "      # Print 2 * (n - i) - 1 stars\n",
        "      print('*' * (2 * (n - i) - 1))\n",
        "\n",
        "    # Lower Half of Hourglass\n",
        "    for i in range(n-2, -1, -1):\n",
        "        # Print i spaces\n",
        "      print(' ' * i, end='')\n",
        "      # Print 2 * (n - i) - 1 stars\n",
        "      print('*' * (2 * (n - i) - 1))\n",
        "\n",
        "# Prompt for user input\n",
        "n = int(input())\n",
        "\n",
        "# Call the function to draw the hourglass pattern\n",
        "drawHourglassPattern(n)"
      ],
      "metadata": {
        "colab": {
          "base_uri": "https://localhost:8080/"
        },
        "id": "tl3btv2XTqbK",
        "outputId": "fa67b324-0b9c-49cf-bbe7-4dda0ed4c076"
      },
      "execution_count": null,
      "outputs": [
        {
          "output_type": "stream",
          "name": "stdout",
          "text": [
            "5\n",
            "*********\n",
            " *******\n",
            "  *****\n",
            "   ***\n",
            "    *\n",
            "   ***\n",
            "  *****\n",
            " *******\n",
            "*********\n"
          ]
        }
      ]
    },
    {
      "cell_type": "markdown",
      "source": [
        "**5: Left triangle alphabet pattern:**\n",
        "\n",
        "Write a program in python to print the following pattern for the given number of rows.\n",
        "\n",
        "The left alphabet triangle pattern is a triangle pattern that is made of alphabets and has perpendicular on its left side.\n",
        "\n",
        "Example 1:"
      ],
      "metadata": {
        "id": "tywr4AOoTuvs"
      }
    },
    {
      "cell_type": "code",
      "source": [
        "def drawLeftTriangleAlphabetPattern(n):\n",
        "    for i in range(n):\n",
        "        # Loop through the alphabets in each row\n",
        "        for j in range(i, -1, -1):\n",
        "            # Calculate and print the alphabet\n",
        "            print(chr(65+(n-j-1)), end='')\n",
        "\n",
        "        # Move to the next row\n",
        "        print()\n",
        "\n",
        "# Prompt for user input\n",
        "n = int(input())\n",
        "\n",
        "# Call the function to draw the left triangle alphabet pattern\n",
        "drawLeftTriangleAlphabetPattern(n)"
      ],
      "metadata": {
        "colab": {
          "base_uri": "https://localhost:8080/"
        },
        "id": "QkyIk0N4TvFg",
        "outputId": "aeacf4ac-d91b-4b6c-ef5f-877cc4388a5a"
      },
      "execution_count": null,
      "outputs": [
        {
          "output_type": "stream",
          "name": "stdout",
          "text": [
            "5\n",
            "E\n",
            "DE\n",
            "CDE\n",
            "BCDE\n",
            "ABCDE\n"
          ]
        }
      ]
    },
    {
      "cell_type": "markdown",
      "source": [
        "**6: Left triangle number pattern:**\n",
        "\n",
        "Write a program in python to print the following pattern for the given N number of rows."
      ],
      "metadata": {
        "id": "ryDE-WtsU_fG"
      }
    },
    {
      "cell_type": "code",
      "source": [
        "def drawLeftTriangleNumberPattern(n):\n",
        "    for i in range(1, n + 1):\n",
        "        # Determine the pattern for each row and print it\n",
        "        if i ==1:\n",
        "          print(\"1\")\n",
        "        elif i==2:\n",
        "          print(\"11\")\n",
        "        else:\n",
        "          print(str(i-1) + \"0\" * (i-2) + str(i-1))\n",
        "\n",
        "# Prompt for user input\n",
        "n = int(input())\n",
        "\n",
        "# Call the function to draw the left triangle number pattern\n",
        "drawLeftTriangleNumberPattern(n)"
      ],
      "metadata": {
        "colab": {
          "base_uri": "https://localhost:8080/"
        },
        "id": "JFrCCDWLU_ve",
        "outputId": "adfff08a-339a-4064-f20f-472bc6579359"
      },
      "execution_count": null,
      "outputs": [
        {
          "output_type": "stream",
          "name": "stdout",
          "text": [
            "4\n",
            "1\n",
            "11\n",
            "202\n",
            "3003\n"
          ]
        }
      ]
    },
    {
      "cell_type": "markdown",
      "source": [
        "**7: Square alphabet pattern:**\n",
        "\n",
        "Write a program in python to print the following pattern for the given N number of rows.\n"
      ],
      "metadata": {
        "id": "pwm6Di5EVJNS"
      }
    },
    {
      "cell_type": "code",
      "source": [
        "def drawSquareAlphabetPattern(n):\n",
        "    i = 1\n",
        "    while i <= n:\n",
        "        # Draw each row of the square pattern\n",
        "        j = 1\n",
        "        while j <= n:\n",
        "            # Calculate and print the character\n",
        "            print(chr(64 + j), end = '')\n",
        "            j = j + 1\n",
        "        # Move to the next line after each row\n",
        "        print()\n",
        "        i = i + 1\n",
        "\n",
        "# Prompt for user input\n",
        "n = int(input())\n",
        "\n",
        "# Call the function to draw the square alphabet pattern\n",
        "drawSquareAlphabetPattern(n)"
      ],
      "metadata": {
        "colab": {
          "base_uri": "https://localhost:8080/"
        },
        "id": "z0O8WjrGVN3E",
        "outputId": "1be64b79-3f01-4645-f895-075318c579ed"
      },
      "execution_count": null,
      "outputs": [
        {
          "output_type": "stream",
          "name": "stdout",
          "text": [
            "4\n",
            "ABCD\n",
            "ABCD\n",
            "ABCD\n",
            "ABCD\n"
          ]
        }
      ]
    },
    {
      "cell_type": "markdown",
      "source": [
        "**8: Alphabet Pyramid Pattern:**\n",
        "\n",
        "Write a program in python to print the following pattern for the given N number of rows.\n",
        "\n",
        "The alphabet pyramid pattern is a pyramid pattern that is made of alphabets.\n"
      ],
      "metadata": {
        "id": "pf2dQl0pVRUt"
      }
    },
    {
      "cell_type": "code",
      "source": [
        "def drawAlphabetPyramid(size):\n",
        "    alpha = 65  # ASCII value of 'A'\n",
        "    for i in range(size):\n",
        "        # Print spaces for pyramid shape\n",
        "        for _ in range (size - i -1):\n",
        "          print(\" \", end=\"\")\n",
        "        # Print alphabets in pyramid row\n",
        "        for j in range(2 * i +1):\n",
        "          print(chr(alpha + j), end=\"\")\n",
        "\n",
        "        # Move to the next row\n",
        "        print()\n",
        "\n",
        "# Prompt for user input\n",
        "size = int(input())\n",
        "\n",
        "# Call the function to draw the alphabet pyramid pattern\n",
        "drawAlphabetPyramid(size)"
      ],
      "metadata": {
        "colab": {
          "base_uri": "https://localhost:8080/"
        },
        "id": "1ghyh0nvVWyD",
        "outputId": "d504c442-f15b-4540-e126-a5c60325fffe"
      },
      "execution_count": null,
      "outputs": [
        {
          "output_type": "stream",
          "name": "stdout",
          "text": [
            "5\n",
            "    A\n",
            "   ABC\n",
            "  ABCDE\n",
            " ABCDEFG\n",
            "ABCDEFGHI\n"
          ]
        }
      ]
    },
    {
      "cell_type": "markdown",
      "source": [
        "**9: Diamond of numbers pattern:**\n",
        "\n",
        "Write a program in python to print the following pattern for the given N number of rows."
      ],
      "metadata": {
        "id": "gPOtmHCjVY7b"
      }
    },
    {
      "cell_type": "code",
      "source": [
        "def drawDiamondPattern(size):\n",
        "    # Draw the upper half of the diamond\n",
        "    for i in range(1, size + 1):\n",
        "        # Print leading spaces\n",
        "        for j in range(size - i):\n",
        "            print(\" \", end=\"\")\n",
        "\n",
        "        # Print numbers in increasing order\n",
        "        num = 1\n",
        "        for j in range(1, 2*i):\n",
        "            print(num, end=\"\")\n",
        "            num += 1\n",
        "\n",
        "        # Move to the next line after each row\n",
        "        print()\n",
        "\n",
        "    # Draw the lower half of the diamond\n",
        "    for i in range(size - 1, 0, -1):\n",
        "        # Print leading spaces\n",
        "        for j in range(size - i):\n",
        "            print(\" \", end=\"\")\n",
        "\n",
        "        # Print numbers in increasing order\n",
        "        num = 1\n",
        "        for j in range(1, 2*i):\n",
        "            print(num, end=\"\")\n",
        "            num += 1\n",
        "\n",
        "        # Move to the next line after each row\n",
        "        print()\n",
        "\n",
        "# Prompt for user input\n",
        "size = int(input())\n",
        "\n",
        "# Call the function to draw the diamond pattern\n",
        "drawDiamondPattern(size)"
      ],
      "metadata": {
        "colab": {
          "base_uri": "https://localhost:8080/"
        },
        "id": "F4uCg7mSVdRB",
        "outputId": "efca9970-10da-47e0-82a5-1395cdaf89b0"
      },
      "execution_count": null,
      "outputs": [
        {
          "output_type": "stream",
          "name": "stdout",
          "text": [
            "5\n",
            "    1\n",
            "   123\n",
            "  12345\n",
            " 1234567\n",
            "123456789\n",
            " 1234567\n",
            "  12345\n",
            "   123\n",
            "    1\n"
          ]
        }
      ]
    },
    {
      "cell_type": "markdown",
      "source": [
        "**10: Right triangle star pattern:**\n",
        "\n",
        "Write a program in python to print the following pattern for the given N number of rows."
      ],
      "metadata": {
        "id": "FYb7QCxGViDd"
      }
    },
    {
      "cell_type": "code",
      "source": [
        "def drawRightTrianglePattern(n):\n",
        "    i = 1\n",
        "    while i <= n:\n",
        "        # Print leading spaces\n",
        "        spaces = 1\n",
        "        while spaces <= n - i:\n",
        "            print(\" \", end = \"\")\n",
        "            spaces += 1\n",
        "\n",
        "        # Print stars after the spaces\n",
        "        stars = 1\n",
        "        while stars <= i:\n",
        "            print(\"*\", end = \"\")\n",
        "            stars += 1\n",
        "\n",
        "        # Move to the next row\n",
        "        print()\n",
        "        i += 1\n",
        "\n",
        "# Prompt for user input\n",
        "n = int(input())\n",
        "\n",
        "# Call the function to draw the right triangle star pattern\n",
        "drawRightTrianglePattern(n)"
      ],
      "metadata": {
        "colab": {
          "base_uri": "https://localhost:8080/"
        },
        "id": "tbD4-KY1Vl3g",
        "outputId": "ba5346bf-beb7-4db2-e06a-673b6e75f465"
      },
      "execution_count": null,
      "outputs": [
        {
          "output_type": "stream",
          "name": "stdout",
          "text": [
            "5\n",
            "    *\n",
            "   **\n",
            "  ***\n",
            " ****\n",
            "*****\n"
          ]
        }
      ]
    },
    {
      "cell_type": "code",
      "source": [
        "# nsp= n-1    # no.of spaces\n",
        "# nst = 1    # no.of stars\n",
        "# n=5         # no. of rows that we have print the pattern\n",
        "def pattern(n):\n",
        "  nsp = n-1\n",
        "  nst = 1\n",
        "  for row in range(1, n+1):   # This is for 1st line of pattern.\n",
        "    for csp in range(1, nsp+1):   # This loop for spaces, i.e. nsp+1 = n-1+1 = 5-1+1 =5\n",
        "      print(\"  \", end = \"\")      # This line for spaces between the space and stars\n",
        "    for cst in range(1, nst+1):    # This loop for stars, i.e. nst+1 = 5+1 = 6\n",
        "      print(\"* \", end = \"\")\n",
        "\n",
        "    nsp = nsp - 1\n",
        "    nst = nst + 1\n",
        "    print()\n",
        "pattern(5)"
      ],
      "metadata": {
        "colab": {
          "base_uri": "https://localhost:8080/"
        },
        "id": "RAtZL1zxbIYJ",
        "outputId": "25093782-c640-4e47-80b9-4181a384dd50"
      },
      "execution_count": null,
      "outputs": [
        {
          "output_type": "stream",
          "name": "stdout",
          "text": [
            "        * \n",
            "      * * \n",
            "    * * * \n",
            "  * * * * \n",
            "* * * * * \n"
          ]
        }
      ]
    },
    {
      "cell_type": "code",
      "source": [
        "def pattern(n):\n",
        "  nsp = 0\n",
        "  nst = 1\n",
        "  for row in range(1, n+1):\n",
        "    for csp in range(1, nsp+1):\n",
        "      print(\"  \", end = \"\")\n",
        "    for cst in range(1, nst+1):\n",
        "      print(\"* \", end = \"\")\n",
        "\n",
        "    nsp = nsp - 1\n",
        "    nst = nst + 1\n",
        "    print()\n",
        "pattern(5)"
      ],
      "metadata": {
        "colab": {
          "base_uri": "https://localhost:8080/"
        },
        "id": "LJN3883KbK8q",
        "outputId": "c1960a6c-74f1-4322-b342-cf365da9b73e"
      },
      "execution_count": null,
      "outputs": [
        {
          "output_type": "stream",
          "name": "stdout",
          "text": [
            "* \n",
            "* * \n",
            "* * * \n",
            "* * * * \n",
            "* * * * * \n"
          ]
        }
      ]
    },
    {
      "cell_type": "code",
      "source": [
        "def pattern(n):\n",
        "  nsp = 0\n",
        "  nst = n\n",
        "  for row in range(1, n+1):\n",
        "    for csp in range(1, nsp+1):\n",
        "      print(\"  \", end = \"\")\n",
        "    for cst in range(1, nst+1):\n",
        "      print(\"* \", end = \"\")\n",
        "\n",
        "    nsp = nsp - 1\n",
        "    nst = nst - 1\n",
        "    print()\n",
        "pattern(5)"
      ],
      "metadata": {
        "colab": {
          "base_uri": "https://localhost:8080/"
        },
        "id": "deCb5mX_bNjS",
        "outputId": "d3b1a2f4-7218-454a-e201-0d272514c319"
      },
      "execution_count": null,
      "outputs": [
        {
          "output_type": "stream",
          "name": "stdout",
          "text": [
            "* * * * * \n",
            "* * * * \n",
            "* * * \n",
            "* * \n",
            "* \n"
          ]
        }
      ]
    },
    {
      "cell_type": "code",
      "source": [
        "def pattern(n):\n",
        "  nsp = 0\n",
        "  nst = n\n",
        "  for row in range(1, n+1):\n",
        "    for csp in range(1, nsp+1):\n",
        "      print(\"  \", end = \"\")\n",
        "    for cst in range(1, nst+1):\n",
        "      print(\"* \", end = \"\")\n",
        "\n",
        "    nsp = nsp + 1\n",
        "    nst = nst - 1\n",
        "    print()\n",
        "pattern(5)"
      ],
      "metadata": {
        "colab": {
          "base_uri": "https://localhost:8080/"
        },
        "id": "wzo_cJArbe8Y",
        "outputId": "7cc3c646-1fb8-47c2-c462-b420ecb1dbbd"
      },
      "execution_count": null,
      "outputs": [
        {
          "output_type": "stream",
          "name": "stdout",
          "text": [
            "* * * * * \n",
            "  * * * * \n",
            "    * * * \n",
            "      * * \n",
            "        * \n"
          ]
        }
      ]
    },
    {
      "cell_type": "code",
      "source": [
        "def pattern(n):\n",
        "  nsp = n-1\n",
        "  nst = 1\n",
        "  for row in range(1, n+1):\n",
        "    for csp in range(1, nsp+1):\n",
        "      print(\"  \", end = \"\")\n",
        "    for cst in range(1, nst+1):\n",
        "      print(\"* \", end = \"\")\n",
        "\n",
        "    nsp = nsp - 1\n",
        "    nst = nst + 2\n",
        "    print()\n",
        "pattern(5)"
      ],
      "metadata": {
        "colab": {
          "base_uri": "https://localhost:8080/"
        },
        "id": "IoM2Yzs_jVnQ",
        "outputId": "3d859860-ab46-498c-c8fa-c389d123a935"
      },
      "execution_count": null,
      "outputs": [
        {
          "output_type": "stream",
          "name": "stdout",
          "text": [
            "        * \n",
            "      * * * \n",
            "    * * * * * \n",
            "  * * * * * * * \n",
            "* * * * * * * * * \n"
          ]
        }
      ]
    },
    {
      "cell_type": "code",
      "source": [
        "def pattern(n):\n",
        "  nsp = 0\n",
        "  nst = 2*n-1\n",
        "  for row in range(1, n+1):\n",
        "    for csp in range(1, nsp+1):\n",
        "      print(\" \", end = \"\")\n",
        "    for cst in range(1, nst+1):\n",
        "      print(\"*\", end = \"\")\n",
        "\n",
        "    nsp = nsp + 1\n",
        "    nst = nst - 2\n",
        "    print()\n",
        "pattern(5)"
      ],
      "metadata": {
        "colab": {
          "base_uri": "https://localhost:8080/"
        },
        "id": "M_6aw9jOkeTq",
        "outputId": "bb1df42f-c5d8-4e8b-ce87-e13f799a133f"
      },
      "execution_count": null,
      "outputs": [
        {
          "output_type": "stream",
          "name": "stdout",
          "text": [
            "*********\n",
            " *******\n",
            "  *****\n",
            "   ***\n",
            "    *\n"
          ]
        }
      ]
    },
    {
      "cell_type": "code",
      "source": [
        "def pattern(n):\n",
        "  nsp = int(n / 2)\n",
        "  nst = 1\n",
        "  for row in range(1, n+1):\n",
        "    for csp in range(1, nsp+1):\n",
        "      print(\"  \", end = \"\")\n",
        "\n",
        "    for cst in range(1, nst+1):\n",
        "      print(\"* \", end = \"\")\n",
        "\n",
        "    if row <= n /2:\n",
        "      nsp = nsp - 1\n",
        "      nst = nst + 2\n",
        "    else:\n",
        "      nsp = nsp + 1\n",
        "      nst = nst -2\n",
        "    print()\n",
        "pattern(7)"
      ],
      "metadata": {
        "colab": {
          "base_uri": "https://localhost:8080/"
        },
        "id": "hIFq_aaPqt-F",
        "outputId": "15c59e3b-80a9-484f-f593-1882468e593e"
      },
      "execution_count": null,
      "outputs": [
        {
          "output_type": "stream",
          "name": "stdout",
          "text": [
            "      * \n",
            "    * * * \n",
            "  * * * * * \n",
            "* * * * * * * \n",
            "  * * * * * \n",
            "    * * * \n",
            "      * \n"
          ]
        }
      ]
    },
    {
      "cell_type": "code",
      "source": [
        "def pattern(n):\n",
        "  nst = 1\n",
        "  count = 1\n",
        "  for row in range(1, n+1):\n",
        "    for csp in range(1, nst+1):\n",
        "      print(count,\" \", end = \"\")\n",
        "      count = count + 1\n",
        "\n",
        "    nst = nst + 1\n",
        "    print()\n",
        "pattern(5)"
      ],
      "metadata": {
        "colab": {
          "base_uri": "https://localhost:8080/"
        },
        "id": "n4G-APz4bovN",
        "outputId": "4054dcfa-33ba-45fb-91a2-89361181df5e"
      },
      "execution_count": null,
      "outputs": [
        {
          "output_type": "stream",
          "name": "stdout",
          "text": [
            "1  \n",
            "2  3  \n",
            "4  5  6  \n",
            "7  8  9  10  \n",
            "11  12  13  14  15  \n"
          ]
        }
      ]
    },
    {
      "cell_type": "code",
      "source": [
        "def pattern(n):\n",
        "  nst = 1\n",
        "  a = 0\n",
        "  b = 1\n",
        "  for row in range(1, n+1):\n",
        "    for csp in range(1, nst+1):\n",
        "      print(a,\" \", end = \"\")\n",
        "      sum = a + b\n",
        "      a = b\n",
        "      b = sum\n",
        "\n",
        "    nst = nst + 1\n",
        "    print()\n",
        "pattern(5)"
      ],
      "metadata": {
        "colab": {
          "base_uri": "https://localhost:8080/"
        },
        "id": "yMuLdDVkc2F6",
        "outputId": "becc181d-2693-4fe9-c6ba-b80ba6c9d408"
      },
      "execution_count": null,
      "outputs": [
        {
          "output_type": "stream",
          "name": "stdout",
          "text": [
            "0  \n",
            "1  1  \n",
            "2  3  5  \n",
            "8  13  21  34  \n",
            "55  89  144  233  377  \n"
          ]
        }
      ]
    },
    {
      "cell_type": "code",
      "source": [
        "# Binomial Series Pattern\n",
        "\n",
        "def pattern(N):\n",
        "  nst = 1\n",
        "  for n in range(0, N):\n",
        "    val = 1\n",
        "    for r in range(0, nst):\n",
        "      print(val,\" \", end = \"\")\n",
        "      val = (n - r ) * val / (r+1)\n",
        "\n",
        "    nst = nst + 1\n",
        "    print()\n",
        "pattern(5)"
      ],
      "metadata": {
        "colab": {
          "base_uri": "https://localhost:8080/"
        },
        "id": "g6-xtG2TePrV",
        "outputId": "5fce1073-e2ac-430b-d7e1-ffb93ddbac49"
      },
      "execution_count": null,
      "outputs": [
        {
          "output_type": "stream",
          "name": "stdout",
          "text": [
            "1  \n",
            "1  1.0  \n",
            "1  2.0  1.0  \n",
            "1  3.0  3.0  1.0  \n",
            "1  4.0  6.0  4.0  1.0  \n"
          ]
        }
      ]
    },
    {
      "cell_type": "code",
      "source": [
        "def pattern(n):\n",
        "  nsp = n-1\n",
        "  nst = 1\n",
        "  for row in range(1, n+1):\n",
        "\n",
        "    for csp in range(1, nsp+1):\n",
        "      print(\"  \", end = \"\")\n",
        "    count = 1\n",
        "    for cst in range(1, nst+1):\n",
        "      print(count, \"\", end = \"\")\n",
        "      if cst <= nst / 2:\n",
        "        count = count + 1\n",
        "      else:\n",
        "        count = count - 1\n",
        "\n",
        "    nsp = nsp - 1\n",
        "    nst = nst + 2\n",
        "    print()\n",
        "pattern(5)"
      ],
      "metadata": {
        "colab": {
          "base_uri": "https://localhost:8080/"
        },
        "id": "iMCprr5doFJb",
        "outputId": "fe8efeab-91aa-4144-8490-686fe2b5a3ec"
      },
      "execution_count": null,
      "outputs": [
        {
          "output_type": "stream",
          "name": "stdout",
          "text": [
            "        1 \n",
            "      1 2 1 \n",
            "    1 2 3 2 1 \n",
            "  1 2 3 4 3 2 1 \n",
            "1 2 3 4 5 4 3 2 1 \n"
          ]
        }
      ]
    },
    {
      "cell_type": "code",
      "source": [
        "def pattern(n):\n",
        "  nsp = n-1\n",
        "  nst = 1\n",
        "  for row in range(1, n+1):\n",
        "\n",
        "    for csp in range(1, nsp+1):\n",
        "      print(\"  \", end = \"\")\n",
        "    val = 1\n",
        "    for cst in range(1, nst+1):\n",
        "      print(val, \"\", end = \"\")\n",
        "      if cst <= nst / 2:\n",
        "        val = val * 2\n",
        "      else:\n",
        "        val = val / 2\n",
        "\n",
        "    nsp = nsp - 1\n",
        "    nst = nst + 2\n",
        "    print()\n",
        "pattern(5)"
      ],
      "metadata": {
        "colab": {
          "base_uri": "https://localhost:8080/"
        },
        "id": "wAent_dTqVA6",
        "outputId": "93b3b0b3-aa0f-4a44-a8a8-81739a9088d1"
      },
      "execution_count": null,
      "outputs": [
        {
          "output_type": "stream",
          "name": "stdout",
          "text": [
            "        1 \n",
            "      1 2 1.0 \n",
            "    1 2 4 2.0 1.0 \n",
            "  1 2 4 8 4.0 2.0 1.0 \n",
            "1 2 4 8 16 8.0 4.0 2.0 1.0 \n"
          ]
        }
      ]
    },
    {
      "cell_type": "code",
      "source": [
        "for i in range(n):  # Rows\n",
        "    for j in range(n):  # Columns\n",
        "        print(\"*\", end=\" \")\n",
        "    print()"
      ],
      "metadata": {
        "colab": {
          "base_uri": "https://localhost:8080/"
        },
        "id": "9TMsnUCUI7qc",
        "outputId": "1498c60d-0a96-40a9-fdf7-31920c54ff49"
      },
      "execution_count": null,
      "outputs": [
        {
          "output_type": "stream",
          "name": "stdout",
          "text": [
            "* * * * * \n",
            "* * * * * \n",
            "* * * * * \n",
            "* * * * * \n",
            "* * * * * \n"
          ]
        }
      ]
    },
    {
      "cell_type": "code",
      "source": [
        "n = 5\n",
        "for i in range(1,n+1):\n",
        "  for j in range(1,n+1):\n",
        "    if (i==1 or i==n or j==1 or j==n):\n",
        "      print(\"*\", end = \" \")\n",
        "    else :\n",
        "      print(\" \", end = \" \")\n",
        "  print()"
      ],
      "metadata": {
        "colab": {
          "base_uri": "https://localhost:8080/"
        },
        "id": "uyhic_wYKKHO",
        "outputId": "8e13d3cd-2e0d-4398-8b5a-7fff1a89b530"
      },
      "execution_count": null,
      "outputs": [
        {
          "output_type": "stream",
          "name": "stdout",
          "text": [
            "* * * * * \n",
            "*       * \n",
            "*       * \n",
            "*       * \n",
            "* * * * * \n"
          ]
        }
      ]
    },
    {
      "cell_type": "code",
      "source": [
        "for i in range(n):  # Rows\n",
        "    num = 1\n",
        "    for j in range(n - i - 1):  # Spaces\n",
        "        print(\" \", end=\"\")\n",
        "    for j in range(i + 1):  # Numbers\n",
        "        print(num, end=\" \")\n",
        "        num += 1\n",
        "    print()"
      ],
      "metadata": {
        "colab": {
          "base_uri": "https://localhost:8080/"
        },
        "id": "dfz3hDGVJU7L",
        "outputId": "4e0f6b49-0f95-4621-fa48-fb526a8b420c"
      },
      "execution_count": null,
      "outputs": [
        {
          "output_type": "stream",
          "name": "stdout",
          "text": [
            "    1 \n",
            "   1 2 \n",
            "  1 2 3 \n",
            " 1 2 3 4 \n",
            "1 2 3 4 5 \n"
          ]
        }
      ]
    },
    {
      "cell_type": "code",
      "source": [
        "def alphabetic_pattern(n):\n",
        "  for i in range(n):\n",
        "    print(chr(65 + i) * (i + 1))\n",
        "\n",
        "n = 5\n",
        "alphabetic_pattern(n)"
      ],
      "metadata": {
        "colab": {
          "base_uri": "https://localhost:8080/"
        },
        "id": "RdJfz3b0Jm8v",
        "outputId": "45e6a177-ef3c-4526-b42d-f0a4575f006e"
      },
      "execution_count": null,
      "outputs": [
        {
          "output_type": "stream",
          "name": "stdout",
          "text": [
            "A\n",
            "BB\n",
            "CCC\n",
            "DDDD\n",
            "EEEEE\n"
          ]
        }
      ]
    },
    {
      "cell_type": "code",
      "source": [
        "for i in range(n):\n",
        "    for j in range(n):\n",
        "        if (i + j) % 2 == 0:\n",
        "            print(\"*\", end=\" \")\n",
        "        else:\n",
        "            print(\" \", end=\" \")\n",
        "    print()"
      ],
      "metadata": {
        "colab": {
          "base_uri": "https://localhost:8080/"
        },
        "id": "XaNQoyivKlBw",
        "outputId": "943941f3-34fa-420b-c5da-5dfd6ec14543"
      },
      "execution_count": null,
      "outputs": [
        {
          "output_type": "stream",
          "name": "stdout",
          "text": [
            "*   *   * \n",
            "  *   *   \n",
            "*   *   * \n",
            "  *   *   \n",
            "*   *   * \n"
          ]
        }
      ]
    },
    {
      "cell_type": "code",
      "source": [
        "for i in range(n):\n",
        "    for j in range(n - i - 1):\n",
        "        print(\" \", end=\"\")\n",
        "    for j in range(2 * i + 1):\n",
        "        if j == 0 or j == 2 * i or i == n - 1:\n",
        "            print(\"*\", end=\"\")\n",
        "        else:\n",
        "            print(\" \", end=\"\")\n",
        "    print()"
      ],
      "metadata": {
        "colab": {
          "base_uri": "https://localhost:8080/"
        },
        "id": "0SwOa73XKpqv",
        "outputId": "f09a9ee2-0e02-4425-b110-13f5ee43c3f1"
      },
      "execution_count": null,
      "outputs": [
        {
          "output_type": "stream",
          "name": "stdout",
          "text": [
            "    *\n",
            "   * *\n",
            "  *   *\n",
            " *     *\n",
            "*********\n"
          ]
        }
      ]
    },
    {
      "cell_type": "code",
      "source": [
        "n=5\n",
        "def fibonacci(n):\n",
        "    a, b = 0, 1\n",
        "    for i in range(n):\n",
        "        for j in range(i + 1):\n",
        "            print(a, end=\" \")\n",
        "            a, b = b, a + b\n",
        "        print()\n",
        "fibonacci(n)"
      ],
      "metadata": {
        "colab": {
          "base_uri": "https://localhost:8080/"
        },
        "id": "8-x8wxWRKwtI",
        "outputId": "cc16f509-6603-4064-e2da-cd92a27b7f99"
      },
      "execution_count": null,
      "outputs": [
        {
          "output_type": "stream",
          "name": "stdout",
          "text": [
            "0 \n",
            "1 1 \n",
            "2 3 5 \n",
            "8 13 21 34 \n",
            "55 89 144 233 377 \n"
          ]
        }
      ]
    },
    {
      "cell_type": "code",
      "source": [
        "for row in range(n):\n",
        "    for column in range(m * 4):\n",
        "        if row == column % 4 or row == 4 - column % 4:\n",
        "            print(\"*\", end=\" \")\n",
        "        else:\n",
        "            print(\" \", end=\" \")\n",
        "    print()"
      ],
      "metadata": {
        "colab": {
          "base_uri": "https://localhost:8080/"
        },
        "id": "9cIQuib9K0Vl",
        "outputId": "4d5dcc2e-8cfc-42a0-8f86-75a20b3731c1"
      },
      "execution_count": null,
      "outputs": [
        {
          "output_type": "stream",
          "name": "stdout",
          "text": [
            "*       *       *       *       *       \n",
            "  *   *   *   *   *   *   *   *   *   * \n",
            "    *       *       *       *       *   \n",
            "  *   *   *   *   *   *   *   *   *   * \n",
            "*       *       *       *       *       \n"
          ]
        }
      ]
    },
    {
      "cell_type": "code",
      "source": [
        "for i in range(2 * n):\n",
        "    for j in range(2 * n):\n",
        "        if i == 0 or i == 2 * n - 1 or j == 0 or j == 2 * n - 1 \\\n",
        "        or i == j or i + j == 2 * n - 1:\n",
        "            print(\"*\", end=\" \")\n",
        "        else:\n",
        "            print(\" \", end=\" \")\n",
        "    print()"
      ],
      "metadata": {
        "colab": {
          "base_uri": "https://localhost:8080/"
        },
        "id": "xBMogf5NK6De",
        "outputId": "092729db-1f41-4c8f-84a0-ddb9874f93be"
      },
      "execution_count": null,
      "outputs": [
        {
          "output_type": "stream",
          "name": "stdout",
          "text": [
            "* * * * * * * * * * \n",
            "* *             * * \n",
            "*   *         *   * \n",
            "*     *     *     * \n",
            "*       * *       * \n",
            "*       * *       * \n",
            "*     *     *     * \n",
            "*   *         *   * \n",
            "* *             * * \n",
            "* * * * * * * * * * \n"
          ]
        }
      ]
    },
    {
      "cell_type": "code",
      "source": [
        "n=5\n",
        "for i in range(n):\n",
        "    print(\"*\" * (i + 1) + \" \" * (2 * (n - i - 1)) + \"*\" * (i + 1))\n",
        "for i in range(n - 1, -1, -1):\n",
        "    print(\"*\" * (i + 1) + \" \" * (2 * (n - i - 1)) + \"*\" * (i + 1))"
      ],
      "metadata": {
        "colab": {
          "base_uri": "https://localhost:8080/"
        },
        "id": "7GlDR2_AK-55",
        "outputId": "e8f34c66-71f0-4d77-8253-4c4ffb9b82ac"
      },
      "execution_count": null,
      "outputs": [
        {
          "output_type": "stream",
          "name": "stdout",
          "text": [
            "*        *\n",
            "**      **\n",
            "***    ***\n",
            "****  ****\n",
            "**********\n",
            "**********\n",
            "****  ****\n",
            "***    ***\n",
            "**      **\n",
            "*        *\n"
          ]
        }
      ]
    },
    {
      "cell_type": "code",
      "source": [
        "for i in range(n):\n",
        "    for j in range(n):\n",
        "        if i == n // 2 or j == n // 2:\n",
        "            print(\"*\", end=\" \")\n",
        "        else:\n",
        "            print(\" \", end=\" \")\n",
        "    print()"
      ],
      "metadata": {
        "colab": {
          "base_uri": "https://localhost:8080/"
        },
        "id": "7nVyOu18LEEE",
        "outputId": "0b980f16-63b4-40eb-afbc-28d0cc334328"
      },
      "execution_count": null,
      "outputs": [
        {
          "output_type": "stream",
          "name": "stdout",
          "text": [
            "    *     \n",
            "    *     \n",
            "* * * * * \n",
            "    *     \n",
            "    *     \n"
          ]
        }
      ]
    },
    {
      "cell_type": "code",
      "source": [
        "from math import sqrt\n",
        "radius = 5\n",
        "for i in range(2 * radius + 1):\n",
        "    for j in range(2 * radius + 1):\n",
        "        if sqrt((i - radius) ** 2 + (j - radius) ** 2) <= radius:\n",
        "            print(\"*\", end=\" \")\n",
        "        else:\n",
        "            print(\" \", end=\" \")\n",
        "    print()"
      ],
      "metadata": {
        "colab": {
          "base_uri": "https://localhost:8080/"
        },
        "id": "wjd08kqPLIJL",
        "outputId": "09ef8179-767b-4700-db8b-eac72bcf780f"
      },
      "execution_count": null,
      "outputs": [
        {
          "output_type": "stream",
          "name": "stdout",
          "text": [
            "          *           \n",
            "    * * * * * * *     \n",
            "  * * * * * * * * *   \n",
            "  * * * * * * * * *   \n",
            "  * * * * * * * * *   \n",
            "* * * * * * * * * * * \n",
            "  * * * * * * * * *   \n",
            "  * * * * * * * * *   \n",
            "  * * * * * * * * *   \n",
            "    * * * * * * *     \n",
            "          *           \n"
          ]
        }
      ]
    },
    {
      "cell_type": "code",
      "source": [
        "from math import sqrt\n",
        "for i in range(2 * radius + 1):\n",
        "    for j in range(2 * radius + 1):\n",
        "        distance = sqrt((i - radius) ** 2 + (j - radius) ** 2)\n",
        "        if radius - 0.5 < distance < radius + 0.5:\n",
        "            print(\"*\", end=\" \")\n",
        "        else:\n",
        "            print(\" \", end=\" \")\n",
        "    print()"
      ],
      "metadata": {
        "colab": {
          "base_uri": "https://localhost:8080/"
        },
        "id": "CBg610wWLKW_",
        "outputId": "ade82bbd-4e08-44f5-9258-8ced5395b740"
      },
      "execution_count": null,
      "outputs": [
        {
          "output_type": "stream",
          "name": "stdout",
          "text": [
            "      * * * * *       \n",
            "    *           *     \n",
            "  *               *   \n",
            "*                   * \n",
            "*                   * \n",
            "*                   * \n",
            "*                   * \n",
            "*                   * \n",
            "  *               *   \n",
            "    *           *     \n",
            "      * * * * *       \n"
          ]
        }
      ]
    },
    {
      "cell_type": "code",
      "source": [
        "from math import factorial\n",
        "for line in range(1, n + 1):\n",
        "    for i in range(n - line + 1):\n",
        "        print(\" \", end=\"\")\n",
        "    for i in range(line):\n",
        "        print(factorial(line - 1) // (factorial(line - 1 - i) * factorial(i)), end=\" \")\n",
        "    print()"
      ],
      "metadata": {
        "colab": {
          "base_uri": "https://localhost:8080/"
        },
        "id": "HnvW5CwJLMtN",
        "outputId": "1f05f97a-b51c-4162-d09f-766d1b355f19"
      },
      "execution_count": null,
      "outputs": [
        {
          "output_type": "stream",
          "name": "stdout",
          "text": [
            "     1 \n",
            "    1 1 \n",
            "   1 2 1 \n",
            "  1 3 3 1 \n",
            " 1 4 6 4 1 \n"
          ]
        }
      ]
    },
    {
      "cell_type": "code",
      "source": [
        "from math import factorial\n",
        "for line in range(n, 0, -1):\n",
        "    for i in range(n - line + 1):\n",
        "        print(\" \", end=\"\")\n",
        "    for i in range(line):\n",
        "        print(factorial(line - 1) // (factorial(line - 1 - i) * factorial(i)), end=\" \")\n",
        "    print()"
      ],
      "metadata": {
        "colab": {
          "base_uri": "https://localhost:8080/"
        },
        "id": "SHclO849LQg-",
        "outputId": "cc6a2f14-35de-4701-9d53-3fcdef1f1597"
      },
      "execution_count": null,
      "outputs": [
        {
          "output_type": "stream",
          "name": "stdout",
          "text": [
            " 1 4 6 4 1 \n",
            "  1 3 3 1 \n",
            "   1 2 1 \n",
            "    1 1 \n",
            "     1 \n"
          ]
        }
      ]
    },
    {
      "cell_type": "code",
      "source": [
        "rows = 5\n",
        "current_char = 'A'\n",
        "for i in range(1, rows + 1):\n",
        "    for j in range(i):\n",
        "        print(current_char, end=\" \")\n",
        "        current_char = chr(ord(current_char) + 1)\n",
        "    print()"
      ],
      "metadata": {
        "id": "C6Is-WumLVdu",
        "outputId": "de7d9c99-fa08-4bba-e8dd-ec250f1874f1",
        "colab": {
          "base_uri": "https://localhost:8080/"
        }
      },
      "execution_count": null,
      "outputs": [
        {
          "output_type": "stream",
          "name": "stdout",
          "text": [
            "A \n",
            "B C \n",
            "D E F \n",
            "G H I J \n",
            "K L M N O \n"
          ]
        }
      ]
    },
    {
      "cell_type": "code",
      "source": [
        "def drawLeftTriangleAlphabetPattern(n):\n",
        "    i = 1\n",
        "    while i <= n:\n",
        "        # Loop through the alphabets in each row\n",
        "        j = 1\n",
        "        while j <= i:\n",
        "            # Calculate and print the alphabet\n",
        "            print(chr(64 + j), end = \"\")\n",
        "            j += 1\n",
        "        # Move to the next row\n",
        "        print()\n",
        "        i += 1\n",
        "\n",
        "# Prompt for user input\n",
        "n = int(input())\n",
        "\n",
        "# Call the function to draw the left triangle alphabet pattern\n",
        "drawLeftTriangleAlphabetPattern(n)"
      ],
      "metadata": {
        "colab": {
          "base_uri": "https://localhost:8080/"
        },
        "id": "_0Y9yikC2pv2",
        "outputId": "c1f1610c-effa-4256-aad7-45234c820c38"
      },
      "execution_count": null,
      "outputs": [
        {
          "output_type": "stream",
          "name": "stdout",
          "text": [
            "4\n",
            "A\n",
            "AB\n",
            "ABC\n",
            "ABCD\n"
          ]
        }
      ]
    },
    {
      "cell_type": "code",
      "source": [
        "def drawLeftTriangleNumberPattern(n):\n",
        "    for i in range(n):\n",
        "        # Loop through the numbers in each row\n",
        "        for j in range(i + 1):\n",
        "            # Print the number corresponding to the row\n",
        "            print(i+1, end = \"\")\n",
        "        # Move to the next row\n",
        "        print()\n",
        "\n",
        "# Prompt for user input\n",
        "n = int(input())\n",
        "\n",
        "# Call the function to draw the left triangle number pattern\n",
        "drawLeftTriangleNumberPattern(n)"
      ],
      "metadata": {
        "colab": {
          "base_uri": "https://localhost:8080/"
        },
        "id": "HlW6RaWW2wnT",
        "outputId": "4cd9ee85-81e0-4f1e-82b0-d57de94ed558"
      },
      "execution_count": null,
      "outputs": [
        {
          "output_type": "stream",
          "name": "stdout",
          "text": [
            "4\n",
            "1\n",
            "22\n",
            "333\n",
            "4444\n"
          ]
        }
      ]
    },
    {
      "cell_type": "code",
      "source": [
        "def drawRightTriangleNumberPattern(n):\n",
        "    i = 1\n",
        "    while i <= n:\n",
        "        # Print leading spaces for right alignment\n",
        "        spaces = 1\n",
        "        while spaces <= n - i:\n",
        "            print(\" \", end = \"\")\n",
        "            spaces += 1\n",
        "        # Print decreasing numbers\n",
        "        dec_num = i\n",
        "        while dec_num > 0:\n",
        "            print(dec_num, end = \"\")\n",
        "            dec_num -= 1\n",
        "        # Move to the next row\n",
        "        print()\n",
        "        i += 1\n",
        "# Prompt for user input\n",
        "n = 4\n",
        "# Call the function to draw the right triangle number pattern\n",
        "drawRightTriangleNumberPattern(n)"
      ],
      "metadata": {
        "id": "RbLAwQO3mh7g",
        "outputId": "cad03f8b-ece8-4e1a-c1b0-cdb236f5463d",
        "colab": {
          "base_uri": "https://localhost:8080/"
        }
      },
      "execution_count": null,
      "outputs": [
        {
          "output_type": "stream",
          "name": "stdout",
          "text": [
            "   1\n",
            "  21\n",
            " 321\n",
            "4321\n"
          ]
        }
      ]
    },
    {
      "cell_type": "code",
      "source": [
        "n = int(input())\n",
        "\n",
        "for i in range(1, n+1, 1):\n",
        "    for up in range(1, i, 1):\n",
        "        print(n-up+1,end = '')\n",
        "\n",
        "    for j in range(i, 2*n-i+1, 1):\n",
        "        print(n-i+1,end = '')\n",
        "\n",
        "    for lp in range(2*n-i, 2*n-1, 1):\n",
        "        print(lp-n+2,end = '')\n",
        "    print()\n",
        "\n",
        "for i in range(n-1, 0, -1):\n",
        "    for up in range(1, i, 1):\n",
        "        print(n-up+1,end = '')\n",
        "\n",
        "    for j in range(i, 2*n-i+1, 1):\n",
        "        print(n-i+1,end = '')\n",
        "\n",
        "    for lp in range(2*n-i, 2*n-1, 1):\n",
        "        print(lp-n+2,end = '')\n",
        "    print()"
      ],
      "metadata": {
        "colab": {
          "base_uri": "https://localhost:8080/"
        },
        "id": "ZSd0AUR_UjKP",
        "outputId": "54997161-7bed-4b8c-b2de-df87cb5dd8fc"
      },
      "execution_count": null,
      "outputs": [
        {
          "output_type": "stream",
          "name": "stdout",
          "text": [
            "5\n",
            "555555555\n",
            "544444445\n",
            "543333345\n",
            "543222345\n",
            "543212345\n",
            "543222345\n",
            "543333345\n",
            "544444445\n",
            "555555555\n"
          ]
        }
      ]
    },
    {
      "cell_type": "code",
      "source": [
        "for i in range(5):\n",
        "  for j in range(i+1):\n",
        "    print(\"*\", end =\" \")\n",
        "  print()"
      ],
      "metadata": {
        "colab": {
          "base_uri": "https://localhost:8080/"
        },
        "id": "sv5aS2Z_1xmh",
        "outputId": "565d761d-1593-4614-b2c6-d602f4169a31"
      },
      "execution_count": null,
      "outputs": [
        {
          "output_type": "stream",
          "name": "stdout",
          "text": [
            "* \n",
            "* * \n",
            "* * * \n",
            "* * * * \n",
            "* * * * * \n"
          ]
        }
      ]
    },
    {
      "cell_type": "code",
      "source": [
        "for i in range(5,0,-1):\n",
        "  for j in range(i,0,-1):\n",
        "    print(\"*\", end=\" \")\n",
        "  print()"
      ],
      "metadata": {
        "colab": {
          "base_uri": "https://localhost:8080/"
        },
        "id": "b1GIWwv55C6f",
        "outputId": "5537f7d6-810f-423a-a133-dff805d7a208"
      },
      "execution_count": null,
      "outputs": [
        {
          "output_type": "stream",
          "name": "stdout",
          "text": [
            "* * * * * \n",
            "* * * * \n",
            "* * * \n",
            "* * \n",
            "* \n"
          ]
        }
      ]
    },
    {
      "cell_type": "code",
      "source": [
        "for i in range(5):\n",
        "  for j in range(i+1):\n",
        "    print(\"*\", end =\" \")\n",
        "  print()\n",
        "for i in range(5,0,-1):\n",
        "  for j in range(i,0,-1):\n",
        "    print(\"*\", end=\" \")\n",
        "  print()"
      ],
      "metadata": {
        "colab": {
          "base_uri": "https://localhost:8080/"
        },
        "id": "zvvIMHh46RVU",
        "outputId": "c63894c5-4df7-4e2e-be0c-3b18d1e89c6e"
      },
      "execution_count": null,
      "outputs": [
        {
          "output_type": "stream",
          "name": "stdout",
          "text": [
            "* \n",
            "* * \n",
            "* * * \n",
            "* * * * \n",
            "* * * * * \n",
            "* * * * * \n",
            "* * * * \n",
            "* * * \n",
            "* * \n",
            "* \n"
          ]
        }
      ]
    },
    {
      "cell_type": "code",
      "source": [
        "n=5\n",
        "for i in range(n):    # Number of rows\n",
        "  for j in range(n-i-1):  # Number of spaces\n",
        "    print(\" \", end=\"\")   # Printing spaces\n",
        "  for j in range(i+1):   #  number of columns\n",
        "    print(\"*\", end=\" \")  # printing stars\n",
        "  print()                 # new line"
      ],
      "metadata": {
        "colab": {
          "base_uri": "https://localhost:8080/"
        },
        "id": "pbxHvggo8mVr",
        "outputId": "7aac3ba7-9184-44f0-fe25-eec199599d30"
      },
      "execution_count": null,
      "outputs": [
        {
          "output_type": "stream",
          "name": "stdout",
          "text": [
            "    * \n",
            "   * * \n",
            "  * * * \n",
            " * * * * \n",
            "* * * * * \n"
          ]
        }
      ]
    },
    {
      "cell_type": "code",
      "source": [
        "n=5\n",
        "for i in range(n):    # Number of rows\n",
        "  for j in range(i):  # Number of spaces\n",
        "    print(\" \", end=\"\")   # Printing spaces\n",
        "  for j in range(n-i):   #  number of columns\n",
        "    print(\"*\", end=\" \")  # printing stars\n",
        "  print()                 # new line\n"
      ],
      "metadata": {
        "colab": {
          "base_uri": "https://localhost:8080/"
        },
        "id": "l0UD1kQFD7te",
        "outputId": "13029c03-399b-40df-8010-8fd225a03a03"
      },
      "execution_count": null,
      "outputs": [
        {
          "output_type": "stream",
          "name": "stdout",
          "text": [
            "* * * * * \n",
            " * * * * \n",
            "  * * * \n",
            "   * * \n",
            "    * \n"
          ]
        }
      ]
    },
    {
      "cell_type": "code",
      "source": [
        "lst = [2, 43, 4, 3, 6, 5, 8, 7]\n",
        "lst2 = [3, 4, 2, 5, 3, 6, 7, 8]\n",
        "\n",
        "# Convert the map object to a list\n",
        "ans = list(map(lambda x, y: x + y, lst, lst2))\n",
        "print(ans)"
      ],
      "metadata": {
        "colab": {
          "base_uri": "https://localhost:8080/"
        },
        "id": "tOw1zMShijJt",
        "outputId": "7356ded6-e5ac-4524-c5f7-81e6ae746c93"
      },
      "execution_count": null,
      "outputs": [
        {
          "output_type": "stream",
          "name": "stdout",
          "text": [
            "[5, 47, 6, 8, 9, 11, 15, 15]\n"
          ]
        }
      ]
    },
    {
      "cell_type": "code",
      "source": [
        "def single_digit_sum(n):\n",
        "    step = 1\n",
        "    while n >= 10:\n",
        "        digits_sum = sum(int(digit) for digit in str(n))\n",
        "        print(f\"Step-{step} Sum: {digits_sum}\")\n",
        "        n = digits_sum\n",
        "        step += 1\n",
        "n = int(input())\n",
        "single_digit_sum(n)"
      ],
      "metadata": {
        "colab": {
          "base_uri": "https://localhost:8080/"
        },
        "id": "yP4emvbUWHsc",
        "outputId": "aa4b82ee-e8f0-4bef-a598-c62e771858be"
      },
      "execution_count": null,
      "outputs": [
        {
          "output_type": "stream",
          "name": "stdout",
          "text": [
            "7548\n",
            "Step-1 Sum: 24\n",
            "Step-2 Sum: 6\n"
          ]
        }
      ]
    },
    {
      "cell_type": "code",
      "source": [
        "# List of full names\n",
        "list_ = ['sanjay patil', 'rahul karma']\n",
        "\n",
        "for full_name in list_:\n",
        "  if 'sanjay' in full_name:\n",
        "      print('sanjay')"
      ],
      "metadata": {
        "colab": {
          "base_uri": "https://localhost:8080/"
        },
        "id": "n7zdOfPkE0OZ",
        "outputId": "dd0b3ecd-9a94-4b6e-d835-3f5721a6eb97"
      },
      "execution_count": null,
      "outputs": [
        {
          "output_type": "stream",
          "name": "stdout",
          "text": [
            "sanjay\n"
          ]
        }
      ]
    },
    {
      "cell_type": "code",
      "source": [
        "import pandas as pd\n",
        "\n",
        "# Assuming the data is in a CSV file named 'job_titles.csv'\n",
        "# Replace with the correct path to your data file\n",
        "# data = pd.read_csv(\"your_file_path.csv\")\n",
        "\n",
        "# Sample data (replace this with your actual data import logic)\n",
        "data = {\n",
        "    \"job_Title\": [\n",
        "        \"GENERAL MANAGER-METROPOLITAN TRANSIT AUTHORITY\",\n",
        "        \"CAPTAIN III (POLICE DEPARTMENT)\",\n",
        "        \"WIRE ROPE CABLE MAINTENANCE MECHANIC\",\n",
        "        \"CAPTAIN, EMERGENCY MEDICAL SERVICES\",\n",
        "        \"DEPARTMENT HEAD V\",\n",
        "        \"BATTALION CHIEF, (FIRE DEPARTMENT)\"\n",
        "    ]\n",
        "}\n",
        "df = pd.DataFrame(data)\n",
        "\n",
        "captain_jobs = df[df['job_Title'].str.contains('CAPTAIN', case=False, na=False)]\n",
        "\n",
        "captain_count = len(captain_jobs)\n",
        "print(\"Job Titles Containing 'CAPTAIN':\")\n",
        "print(captain_jobs)\n",
        "print(f\"Total Number of Job Titles Containing 'CAPTAIN': {captain_count}\")"
      ],
      "metadata": {
        "colab": {
          "base_uri": "https://localhost:8080/"
        },
        "id": "mUuW-a3rBR8I",
        "outputId": "a57f5b0f-e72f-4015-995f-5128e079a020"
      },
      "execution_count": null,
      "outputs": [
        {
          "output_type": "stream",
          "name": "stdout",
          "text": [
            "Job Titles Containing 'CAPTAIN':\n",
            "                             job_Title\n",
            "1      CAPTAIN III (POLICE DEPARTMENT)\n",
            "3  CAPTAIN, EMERGENCY MEDICAL SERVICES\n",
            "Total Number of Job Titles Containing 'CAPTAIN': 2\n"
          ]
        }
      ]
    },
    {
      "cell_type": "code",
      "source": [
        "import pandas as pd\n",
        "import seaborn as sns\n",
        "import matplotlib.pyplot as plt\n",
        "\n",
        "data = {\n",
        "    'Category': ['A', 'B', 'A', 'C', 'B', 'A', 'C', 'C', 'B', 'A'],\n",
        "    'Count': [10, 15, 10, 5, 15, 10, 5, 5, 15, 10]\n",
        "}\n",
        "df = pd.DataFrame(data)\n",
        "heatmap_data = df.groupby('Category')['Count'].sum().reset_index()\n",
        "heatmap_data = heatmap_data.pivot_table(index='Category', values='Count')\n",
        "plt.figure(figsize=(8, 4))\n",
        "sns.heatmap(heatmap_data, annot=True, cmap='coolwarm', fmt='g', cbar=True)\n",
        "plt.title('Heatmap of Text Column')\n",
        "plt.show()"
      ],
      "metadata": {
        "id": "IXgUiWLl51La",
        "outputId": "54304419-6ad9-47fe-d40e-6a9667b20d60",
        "colab": {
          "base_uri": "https://localhost:8080/",
          "height": 391
        }
      },
      "execution_count": null,
      "outputs": [
        {
          "output_type": "display_data",
          "data": {
            "text/plain": [
              "<Figure size 800x400 with 2 Axes>"
            ],
            "image/png": "[encoded data removed]"
          },
          "metadata": {}
        }
      ]
    },
    {
      "cell_type": "code",
      "source": [],
      "metadata": {
        "id": "jIWDNRaaGBpk"
      },
      "execution_count": null,
      "outputs": []
    },
    {
      "cell_type": "code",
      "source": [
        "import pandas as pd\n",
        "import matplotlib.pyplot as plt\n",
        "\n",
        "# Data setup\n",
        "data = [\n",
        "    ('2022-01-01', 10.1),\n",
        "    ('2022-01-02', 8.5),\n",
        "    ('2022-01-03', 9.0),\n",
        "    ('2022-01-04', 6.5),\n",
        "    ('2022-01-05', 4.8),\n",
        "    ('2022-01-06', 7.6),\n",
        "    ('2022-01-07', 6.9),\n",
        "    ('2022-01-08', 8.2),\n",
        "    ('2022-01-09', 7.5),\n",
        "    ('2022-01-10', 10.0),\n",
        "    ('2022-01-11', 9.5),\n",
        "    ('2022-01-12', 8.1),\n",
        "]\n",
        "\n",
        "# Create a DataFrame\n",
        "day_temp = pd.DataFrame(data, columns=['Date', 'Temp'])\n",
        "\n",
        "# Convert Date column to datetime format\n",
        "day_temp['Date'] = pd.to_datetime(day_temp['Date'])\n",
        "\n",
        "# Plot the line chart\n",
        "plt.plot(day_temp['Date'], day_temp['Temp'], color='red', label='Temperature')\n",
        "\n",
        "# Add labels and title\n",
        "plt.xlabel('Date')\n",
        "plt.ylabel('Temperature (°C)')\n",
        "plt.title('Temperature Over Time')\n",
        "\n",
        "plt.grid(True)\n",
        "plt.legend()\n",
        "\n",
        "plt.show()"
      ],
      "metadata": {
        "colab": {
          "base_uri": "https://localhost:8080/",
          "height": 472
        },
        "id": "YAnDPuGvC9Ss",
        "outputId": "f685c882-6863-4ed7-e931-23715495b529"
      },
      "execution_count": null,
      "outputs": [
        {
          "output_type": "display_data",
          "data": {
            "text/plain": [
              "<Figure size 640x480 with 1 Axes>"
            ],
            "image/png": "[encoded data removed]"
          },
          "metadata": {}
        }
      ]
    },
    {
      "cell_type": "code",
      "source": [
        "n=5\n",
        "for i in range(n):    # Number of rows\n",
        "  for j in range(n-i-1):  # Number of space\n",
        "    print(\" \", end=\"\")   # Printing space\n",
        "  for j in range(i+1):   #  number of columns\n",
        "    print(\"*\", end=\" \")  # printing stars\n",
        "  print()                 # new line\n",
        "\n",
        "for i in range(n):    # Number of rows\n",
        "  for j in range(i):  # Number of space\n",
        "    print(\" \", end=\"\")   # Printing space\n",
        "  for j in range(n-i):   #  number of columns\n",
        "    print(\"*\", end=\" \")  # printing stars\n",
        "  print()                 # new line\n"
      ],
      "metadata": {
        "colab": {
          "base_uri": "https://localhost:8080/"
        },
        "id": "9Wk32VvfGB9F",
        "outputId": "7dfdea4b-b014-4118-d9c8-f6c3e007495a"
      },
      "execution_count": null,
      "outputs": [
        {
          "output_type": "stream",
          "name": "stdout",
          "text": [
            "    * \n",
            "   * * \n",
            "  * * * \n",
            " * * * * \n",
            "* * * * * \n",
            "* * * * * \n",
            " * * * * \n",
            "  * * * \n",
            "   * * \n",
            "    * \n"
          ]
        }
      ]
    },
    {
      "cell_type": "code",
      "source": [
        "row = i\n",
        "\n",
        "# Upper part of diamond\n",
        "for i in range(1, row+1):\n",
        "    for j in range(1,row-i+1):\n",
        "        print(\" \", end=\"\")\n",
        "    for j in range(1, 2*i):\n",
        "        print(\"*\", end=\"\")\n",
        "    print()\n",
        "\n",
        "# Lower part of diamond\n",
        "for i in range(row-1,0, -1):\n",
        "    for j in range(1,row-i+1):\n",
        "        print(\" \", end=\"\")\n",
        "    for j in range(1, 2*i):\n",
        "        print(\"*\", end=\"\")\n",
        "    print()"
      ],
      "metadata": {
        "colab": {
          "base_uri": "https://localhost:8080/"
        },
        "id": "tfihsQjUJrLT",
        "outputId": "2348b138-aaad-4490-978f-58333d42395a"
      },
      "execution_count": null,
      "outputs": [
        {
          "output_type": "stream",
          "name": "stdout",
          "text": [
            "   *\n",
            "  ***\n",
            " *****\n",
            "*******\n",
            " *****\n",
            "  ***\n",
            "   *\n"
          ]
        }
      ]
    },
    {
      "cell_type": "code",
      "source": [
        "n=4\n",
        "k=ord(\"A\")\n",
        "\n",
        "for i in range(0,n):\n",
        "  for j in range(i+1):\n",
        "    print(chr((k)+i+j), end='')\n",
        "  print()"
      ],
      "metadata": {
        "colab": {
          "base_uri": "https://localhost:8080/"
        },
        "id": "76jLDLS1VaHl",
        "outputId": "b75828b0-4f7c-4690-de3a-d4f4b645d67c"
      },
      "execution_count": null,
      "outputs": [
        {
          "output_type": "stream",
          "name": "stdout",
          "text": [
            "A\n",
            "BC\n",
            "CDE\n",
            "DEFG\n"
          ]
        }
      ]
    },
    {
      "cell_type": "code",
      "source": [
        "k=ord(\"E\")\n",
        "for i in range(0, n):\n",
        "  for j in range(k-i, k+1):\n",
        "    print(chr(j), end=\"\")\n",
        "  print()\n",
        "n=5"
      ],
      "metadata": {
        "colab": {
          "base_uri": "https://localhost:8080/"
        },
        "id": "uz9Y8B4NWweD",
        "outputId": "e13dcbf6-6ee1-4193-99e4-e4f6a733d98d"
      },
      "execution_count": null,
      "outputs": [
        {
          "output_type": "stream",
          "name": "stdout",
          "text": [
            "E\n",
            "DE\n",
            "CDE\n",
            "BCDE\n",
            "ABCDE\n"
          ]
        }
      ]
    },
    {
      "cell_type": "code",
      "source": [
        "n=4\n",
        "k=ord(\"A\")\n",
        "for i in range(n):\n",
        "  for j in range(i+1):\n",
        "    print(chr((k)+j), end='')\n",
        "  print()"
      ],
      "metadata": {
        "colab": {
          "base_uri": "https://localhost:8080/"
        },
        "id": "xeiYzGDKhk9P",
        "outputId": "fa54d286-cc63-4e93-8e22-177fdbd16d5d"
      },
      "execution_count": null,
      "outputs": [
        {
          "output_type": "stream",
          "name": "stdout",
          "text": [
            "A\n",
            "AB\n",
            "ABC\n",
            "ABCD\n"
          ]
        }
      ]
    },
    {
      "cell_type": "code",
      "source": [
        "n=4\n",
        "for i in range(0,n):\n",
        "  for j in range(i+1):\n",
        "    print(\"1\", end='')\n",
        "  print()"
      ],
      "metadata": {
        "colab": {
          "base_uri": "https://localhost:8080/"
        },
        "id": "EjaZ_7COkxnX",
        "outputId": "05452df9-00ca-4fce-b14a-d78249131c67"
      },
      "execution_count": null,
      "outputs": [
        {
          "output_type": "stream",
          "name": "stdout",
          "text": [
            "1\n",
            "11\n",
            "111\n",
            "1111\n"
          ]
        }
      ]
    },
    {
      "cell_type": "code",
      "source": [
        "n=4\n",
        "for i in range(1,n+1):\n",
        "  for j in range(1,i+1):\n",
        "    if j==1 or j==i:\n",
        "      print(1, end='')\n",
        "    else:\n",
        "      print(2, end='')\n",
        "  print()"
      ],
      "metadata": {
        "colab": {
          "base_uri": "https://localhost:8080/"
        },
        "id": "zSSEeKDImxf9",
        "outputId": "64f70e40-e9b2-422e-c598-cabed5f1f5ed"
      },
      "execution_count": null,
      "outputs": [
        {
          "output_type": "stream",
          "name": "stdout",
          "text": [
            "1\n",
            "11\n",
            "121\n",
            "1221\n"
          ]
        }
      ]
    },
    {
      "cell_type": "code",
      "source": [
        "n=4\n",
        "for i in range(1,n+1):\n",
        "  for j in range(i, 0, -1):\n",
        "    print(j, end='')\n",
        "  print()"
      ],
      "metadata": {
        "colab": {
          "base_uri": "https://localhost:8080/"
        },
        "id": "N6p3bVbCXa9m",
        "outputId": "94371f32-0788-4d34-d9ee-58508a93b793"
      },
      "execution_count": null,
      "outputs": [
        {
          "output_type": "stream",
          "name": "stdout",
          "text": [
            "1\n",
            "21\n",
            "321\n",
            "4321\n"
          ]
        }
      ]
    },
    {
      "cell_type": "code",
      "source": [
        "n=4\n",
        "for i in range(1, n+1):\n",
        "  for j in range(1,i+1):\n",
        "    print(i, end='')\n",
        "  print()"
      ],
      "metadata": {
        "colab": {
          "base_uri": "https://localhost:8080/"
        },
        "id": "QwBo7sT3Yg9z",
        "outputId": "a48d1a7a-1d13-495c-c761-3ba0d4d71435"
      },
      "execution_count": null,
      "outputs": [
        {
          "output_type": "stream",
          "name": "stdout",
          "text": [
            "1\n",
            "22\n",
            "333\n",
            "4444\n"
          ]
        }
      ]
    },
    {
      "cell_type": "code",
      "source": [
        "n=4\n",
        "for i in range(0,n):\n",
        "  for j in range(0,n):\n",
        "    print(i, end='')\n",
        "  print()"
      ],
      "metadata": {
        "colab": {
          "base_uri": "https://localhost:8080/"
        },
        "id": "Zpnj5rFXa9hv",
        "outputId": "0215580f-f26e-42e4-8547-8096288b1611"
      },
      "execution_count": null,
      "outputs": [
        {
          "output_type": "stream",
          "name": "stdout",
          "text": [
            "0000\n",
            "1111\n",
            "2222\n",
            "3333\n"
          ]
        }
      ]
    },
    {
      "cell_type": "code",
      "source": [
        "n=4\n",
        "for i in range(0,n):\n",
        "  for j in range(0,n):\n",
        "    print('4', end='')\n",
        "  print()"
      ],
      "metadata": {
        "colab": {
          "base_uri": "https://localhost:8080/"
        },
        "id": "3bIygKTWcnkM",
        "outputId": "d0cf73e1-c4a6-4fa5-c08c-5b7fc2b792c2"
      },
      "execution_count": null,
      "outputs": [
        {
          "output_type": "stream",
          "name": "stdout",
          "text": [
            "4444\n",
            "4444\n",
            "4444\n",
            "4444\n"
          ]
        }
      ]
    },
    {
      "cell_type": "code",
      "source": [
        "n=4\n",
        "for i in range(1,n+1):\n",
        "  for j in range(i,i+i):\n",
        "    print(j, end='')\n",
        "  print()"
      ],
      "metadata": {
        "colab": {
          "base_uri": "https://localhost:8080/"
        },
        "id": "FvomjtcHcq36",
        "outputId": "1041dc58-7833-468f-903b-05e19c1fbc88"
      },
      "execution_count": null,
      "outputs": [
        {
          "output_type": "stream",
          "name": "stdout",
          "text": [
            "1\n",
            "23\n",
            "345\n",
            "4567\n"
          ]
        }
      ]
    },
    {
      "cell_type": "code",
      "source": [
        "n=4\n",
        "num=1\n",
        "for i in range(1,n+1):\n",
        "  for j in range(0,i):\n",
        "    print(num, end='')\n",
        "    num+=1\n",
        "  print()"
      ],
      "metadata": {
        "colab": {
          "base_uri": "https://localhost:8080/"
        },
        "id": "HNNBEXVmefT0",
        "outputId": "ee2b711c-a539-41a0-a755-102d76e70285"
      },
      "execution_count": null,
      "outputs": [
        {
          "output_type": "stream",
          "name": "stdout",
          "text": [
            "1\n",
            "23\n",
            "456\n",
            "78910\n"
          ]
        }
      ]
    },
    {
      "cell_type": "code",
      "source": [
        "n=4\n",
        "num=1\n",
        "for i in range(n,0,-1):\n",
        "  for j in range(1,i+1):\n",
        "    print(j, end='')\n",
        "  print()"
      ],
      "metadata": {
        "colab": {
          "base_uri": "https://localhost:8080/"
        },
        "id": "tIaQX0CpjdVM",
        "outputId": "0eac8aec-6589-4450-88a6-1714406a62c8"
      },
      "execution_count": null,
      "outputs": [
        {
          "output_type": "stream",
          "name": "stdout",
          "text": [
            "1234\n",
            "123\n",
            "12\n",
            "1\n"
          ]
        }
      ]
    },
    {
      "cell_type": "code",
      "source": [
        "n=5\n",
        "for i in range(1,n+1):\n",
        "   print(\" \" *(n - i), end=\"\")\n",
        "   for j in range(1,i+1):\n",
        "    print(j, end='')\n",
        "   print()"
      ],
      "metadata": {
        "colab": {
          "base_uri": "https://localhost:8080/"
        },
        "id": "DQ4kD3hJn_N0",
        "outputId": "98e91bd1-9f08-41da-a3d5-f6a1b1faa99c"
      },
      "execution_count": null,
      "outputs": [
        {
          "output_type": "stream",
          "name": "stdout",
          "text": [
            "    1\n",
            "   12\n",
            "  123\n",
            " 1234\n",
            "12345\n"
          ]
        }
      ]
    },
    {
      "cell_type": "code",
      "source": [
        "n=4\n",
        "for i in range(1,n+1):\n",
        "  for j in range(1,n+1):\n",
        "    print(i, end='')\n",
        "  print()"
      ],
      "metadata": {
        "colab": {
          "base_uri": "https://localhost:8080/"
        },
        "id": "K-v76t0bt_qh",
        "outputId": "ca69dc64-3707-4d1d-ba05-a41de38bc205"
      },
      "execution_count": null,
      "outputs": [
        {
          "output_type": "stream",
          "name": "stdout",
          "text": [
            "1111\n",
            "2222\n",
            "3333\n",
            "4444\n"
          ]
        }
      ]
    },
    {
      "cell_type": "code",
      "source": [
        "n=4\n",
        "for i in range(0,n):\n",
        "  for j in range(n,0,-1):\n",
        "    print(j, end='')\n",
        "  print()"
      ],
      "metadata": {
        "colab": {
          "base_uri": "https://localhost:8080/"
        },
        "id": "mf3LvMfUuh-_",
        "outputId": "74f7fbab-6011-4194-bb6f-46f309fff164"
      },
      "execution_count": null,
      "outputs": [
        {
          "output_type": "stream",
          "name": "stdout",
          "text": [
            "4321\n",
            "4321\n",
            "4321\n",
            "4321\n"
          ]
        }
      ]
    }
  ]
}